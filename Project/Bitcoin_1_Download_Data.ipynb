{
 "cells": [
  {
   "cell_type": "markdown",
   "metadata": {},
   "source": [
    "# Project : The price fluctuations of bitcoin"
   ]
  },
  {
   "cell_type": "markdown",
   "metadata": {},
   "source": [
    "### (1) Download Data from Internet"
   ]
  },
  {
   "cell_type": "markdown",
   "metadata": {},
   "source": [
    "First, we download the data of price of bitcoin from [https://blockchain.info/charts/], and save the data as python objects in the memory. We can download from the url the 'Json' formatted data, and we need to parse the Json data into Pandas DataFrame that we are able to cope with easily.\n",
    "\n",
    "The downloaded Json-formatted data is turned into a 'dict' type python object, which contains the following items:\n",
    "```\n",
    "data['unit']\n",
    "data['description']\n",
    "data['status']\n",
    "data['period']\n",
    "data['name']\n",
    "data['values'][0]['x']  # time\n",
    "data['values'][0]['y']  # year\n",
    "```\n",
    "We develope a `download_data_from_blockchain(..)` function to make this downloading process much more easier."
   ]
  },
  {
   "cell_type": "code",
   "execution_count": 7,
   "metadata": {
    "collapsed": true,
    "scrolled": true
   },
   "outputs": [],
   "source": [
    "import requests\n",
    "import re\n",
    "import json\n",
    "\n",
    "import numpy as ny\n",
    "import pandas as pd\n",
    "\n",
    "# develop a download_data_from_blockchain function to make downloading process easier\n",
    "def download_data_from_blockchain(timespan, item):\n",
    "    url = 'https://api.blockchain.info/charts/'+item+'?timespan='+time_span+'&format=json'\n",
    "    json_webpage = requests.get(url).content\n",
    "    json_obj = json.loads(json_webpage.decode('utf8'))\n",
    "    re_time = []\n",
    "    re_data = []\n",
    "    for data in json_obj['values']:\n",
    "        re_time.append(data['x'])\n",
    "        re_data.append(data['y'])\n",
    "    return(re_time, re_data)\n",
    "\n",
    "\n",
    "time_span = '1year' # our time span is 1 year and ranges from May, 2017 to May, 2018\n",
    "\n",
    "# 1. Download 'Currency statistics' datas from https://blockchain.info/charts/\n",
    "# \n",
    "# download market-price of bitcoin on a daily basis\n",
    "market_price_time, market_price_data = download_data_from_blockchain(time_span, 'market-price')\n",
    "\n",
    "# download the total number of bitcoins that have already been mined; \n",
    "# in other words, the current supply of bitcoins on the network.\n",
    "# In the beginning we find other variables including number of bitcoin addresses, \n",
    "# number of transactions and day destroyed (The number of bitcoins used in transactions \n",
    "# multiply by the days since they are last traded). After general data feature analysis and graphing,\n",
    "# we finally chose \"total bitcoins\" to measure the supply of bitcoins.\n",
    "supply_time, supply_data = download_data_from_blockchain(time_span, 'total-bitcoins')\n",
    "\n",
    "# download the total USD value of bitcoin supply in circulation, \n",
    "# as calculated by the daily average market price across major exchanges.\n",
    "market_cap_time, market_cap_data = download_data_from_blockchain(time_span, 'market-cap')\n",
    "\n",
    "# downlad the total USD value of trading volume on major bitcoin exchanges.\n",
    "# which stands for the liquidity of bitcoin trading\n",
    "trade_vol_time, trade_vol_data = download_data_from_blockchain(time_span, 'trade-volume')\n",
    "\n",
    "# check whether the downloaded data matches with each other.\n",
    "# if supply_time == market_price_time:\n",
    "#     print(\"Yes, the 'supply' data is matches the 'market_price' data well.\")\n",
    "# if market_cap_time == market_price_time:\n",
    "#     print(\"Yes, the 'market_cap' data matches the 'market price' data well.\")\n",
    "# if trade_vol_time == market_price_time:\n",
    "#     print(\"Yes, the 'trade-vol' data matches the 'market price' data well.\")\n",
    "\n",
    "# print(market_price_time[0])  # the format of time needs to be transformed. \n",
    "# print()\n",
    "\n",
    "\n",
    "# Also we can download other features available on this website, such as:\n",
    "#\n",
    "#\n",
    "# 2. Mining information \n",
    "#\n",
    "# (1) difficulty : A relative measure of how difficult it is to find a new block. \n",
    "#                  The difficulty is adjusted periodically as a function of how \n",
    "#                  much hashing power has been deployed by the network of miners.\n",
    "# (2) miners-revenue : Total value of coinbase block rewards and transaction fees paid to miners.\n",
    "# (3) hash-rate : The estimated number of tera hashes per second \n",
    "#                 (trillions of hashes per second) the Bitcoin network is performing.\n",
    "# (4) transaction-fees : The total value of all transaction fees paid to miners \n",
    "#                 (not including the coinbase value of block rewards).\n",
    "# (5) transaction-fees-usd\n",
    "# (6) cost-per-transaction-percent : A chart showing miners revenue as percentage \n",
    "#                 of the transaction volume.\n",
    "# (7) cost-per-transaction : A chart showing miners revenue divided by the number of transactions.\n",
    "# \n",
    "#\n",
    "# 3. Network activity \n",
    "#\n",
    "#\n",
    "# 4. Blockchain Wallet Activity \n",
    "#\n",
    "#\n",
    "# 5. Block details \n",
    "# \n",
    "# We mainly use data from step1 this time. In the future, we'll try to put in other variables to improve our model.\n",
    "# "
   ]
  },
  {
   "cell_type": "code",
   "execution_count": 8,
   "metadata": {
    "collapsed": true
   },
   "outputs": [],
   "source": [
    "# create time variables for future time-series analysis\n",
    "import time\n",
    "\n",
    "f_time = []\n",
    "for day in market_price_time:\n",
    "    time_array_day = time.localtime(day)\n",
    "    f_time_day = time.strftime(\"%Y-%m-%d\", time_array_day)\n",
    "    f_time.append(f_time_day)"
   ]
  },
  {
   "cell_type": "code",
   "execution_count": 9,
   "metadata": {
    "collapsed": true
   },
   "outputs": [],
   "source": [
    "bc_data = list(zip(f_time, market_price_data, supply_data, market_cap_data, trade_vol_data))\n",
    "df = pd.DataFrame(data = bc_data, columns = ['date', 'price', 'supply', 'capital', 'trade'])\n",
    "\n",
    "# Memory Clear:\n",
    "#\n",
    "# market_price_time = None\n",
    "# market_price_data = None\n",
    "# supply_time = None\n",
    "# supply_data = None\n",
    "# market_cap_time =None\n",
    "# market_cap_data = None\n",
    "# trade_vol_time = None\n",
    "# trade_vol_data = None"
   ]
  },
  {
   "cell_type": "markdown",
   "metadata": {},
   "source": [
    "Secondly, it would be interesting if we search a little bit about 'Wiki searching' data. We can download the data from [https://tools.wmflabs.org/pageviews]."
   ]
  },
  {
   "cell_type": "code",
   "execution_count": 10,
   "metadata": {},
   "outputs": [
    {
     "name": "stdout",
     "output_type": "stream",
     "text": [
      "https://tools.wmflabs.org/pageviews/?pages=Bitcoin&range=all-time&project=en.wikipedia.org&platform=all-access&agent=user\n"
     ]
    }
   ],
   "source": [
    "page = '?pages=Bitcoin'\n",
    "dates_range = '&range=all-time'\n",
    "agent = '&agent=user'                 # 'all', 'spider', 'bot'\n",
    "platform = '&platform=all-access'     # 'Desktop', 'Mobile app', 'Mobile web'\n",
    "project = '&project=en.wikipedia.org'\n",
    "\n",
    "url = 'https://tools.wmflabs.org/pageviews/'+page+dates_range+project+platform+agent\n",
    "print(url)\n",
    "\n",
    "## Sorry, I have to admit that, the data is generated with JS dynamically, and we\n",
    "## need crawler if we want to do this in an automatical way, which is out of \n",
    "## my ability. Thus, I choose to download the data manually into a csv file.\n",
    "\n",
    "# We didn't adopt Google search data in our model because it's on a weekly basis, \n",
    "# whereas bitcoin data is on a daily basis."
   ]
  },
  {
   "cell_type": "code",
   "execution_count": 11,
   "metadata": {
    "collapsed": true
   },
   "outputs": [],
   "source": [
    "wiki_data = pd.read_csv(\"./pageviews-20150701-20180501.csv\")\n",
    "wiki_data.columns = ['date', 'wiki']"
   ]
  },
  {
   "cell_type": "markdown",
   "metadata": {},
   "source": [
    "Also, there are many other data sourses that we can use. For example, we can download data from [https://www.quandl.com/search], which is a free financial database, where we can find some financial related data. I would not display every detail of this data collection process. "
   ]
  },
  {
   "cell_type": "markdown",
   "metadata": {},
   "source": [
    "### (2) Merge DataFrames and save data in a file"
   ]
  },
  {
   "cell_type": "markdown",
   "metadata": {},
   "source": [
    "First, we need to merge the two data frames by a common attribute \"data\":"
   ]
  },
  {
   "cell_type": "code",
   "execution_count": 12,
   "metadata": {},
   "outputs": [
    {
     "data": {
      "text/html": [
       "<div>\n",
       "<style>\n",
       "    .dataframe thead tr:only-child th {\n",
       "        text-align: right;\n",
       "    }\n",
       "\n",
       "    .dataframe thead th {\n",
       "        text-align: left;\n",
       "    }\n",
       "\n",
       "    .dataframe tbody tr th {\n",
       "        vertical-align: top;\n",
       "    }\n",
       "</style>\n",
       "<table border=\"1\" class=\"dataframe\">\n",
       "  <thead>\n",
       "    <tr style=\"text-align: right;\">\n",
       "      <th></th>\n",
       "      <th>date</th>\n",
       "      <th>price</th>\n",
       "      <th>supply</th>\n",
       "      <th>capital</th>\n",
       "      <th>trade</th>\n",
       "      <th>wiki</th>\n",
       "    </tr>\n",
       "  </thead>\n",
       "  <tbody>\n",
       "    <tr>\n",
       "      <th>0</th>\n",
       "      <td>2017-05-07</td>\n",
       "      <td>1535.868429</td>\n",
       "      <td>16316762.5</td>\n",
       "      <td>2.506040e+10</td>\n",
       "      <td>6.249247e+07</td>\n",
       "      <td>17777</td>\n",
       "    </tr>\n",
       "    <tr>\n",
       "      <th>1</th>\n",
       "      <td>2017-05-08</td>\n",
       "      <td>1640.619225</td>\n",
       "      <td>16319012.5</td>\n",
       "      <td>2.677329e+10</td>\n",
       "      <td>1.396276e+08</td>\n",
       "      <td>19666</td>\n",
       "    </tr>\n",
       "    <tr>\n",
       "      <th>2</th>\n",
       "      <td>2017-05-09</td>\n",
       "      <td>1721.284971</td>\n",
       "      <td>16320950.0</td>\n",
       "      <td>2.809301e+10</td>\n",
       "      <td>1.675120e+08</td>\n",
       "      <td>23935</td>\n",
       "    </tr>\n",
       "    <tr>\n",
       "      <th>3</th>\n",
       "      <td>2017-05-10</td>\n",
       "      <td>1762.886250</td>\n",
       "      <td>16322800.0</td>\n",
       "      <td>2.877524e+10</td>\n",
       "      <td>1.318174e+08</td>\n",
       "      <td>24385</td>\n",
       "    </tr>\n",
       "    <tr>\n",
       "      <th>4</th>\n",
       "      <td>2017-05-11</td>\n",
       "      <td>1820.990562</td>\n",
       "      <td>16324487.5</td>\n",
       "      <td>2.972674e+10</td>\n",
       "      <td>1.515058e+08</td>\n",
       "      <td>25185</td>\n",
       "    </tr>\n",
       "  </tbody>\n",
       "</table>\n",
       "</div>"
      ],
      "text/plain": [
       "         date        price      supply       capital         trade   wiki\n",
       "0  2017-05-07  1535.868429  16316762.5  2.506040e+10  6.249247e+07  17777\n",
       "1  2017-05-08  1640.619225  16319012.5  2.677329e+10  1.396276e+08  19666\n",
       "2  2017-05-09  1721.284971  16320950.0  2.809301e+10  1.675120e+08  23935\n",
       "3  2017-05-10  1762.886250  16322800.0  2.877524e+10  1.318174e+08  24385\n",
       "4  2017-05-11  1820.990562  16324487.5  2.972674e+10  1.515058e+08  25185"
      ]
     },
     "execution_count": 12,
     "metadata": {},
     "output_type": "execute_result"
    }
   ],
   "source": [
    "df = df.merge(wiki_data, on = 'date', how = 'inner')\n",
    "df.head()"
   ]
  },
  {
   "cell_type": "markdown",
   "metadata": {},
   "source": [
    "Then, save the data frame into a file:"
   ]
  },
  {
   "cell_type": "code",
   "execution_count": 13,
   "metadata": {
    "collapsed": true
   },
   "outputs": [],
   "source": [
    "df.to_csv(\"./Bitcoin_data.csv\", index = False)"
   ]
  }
 ],
 "metadata": {
  "kernelspec": {
   "display_name": "Python 3",
   "language": "python",
   "name": "python3"
  },
  "language_info": {
   "codemirror_mode": {
    "name": "ipython",
    "version": 3
   },
   "file_extension": ".py",
   "mimetype": "text/x-python",
   "name": "python",
   "nbconvert_exporter": "python",
   "pygments_lexer": "ipython3",
   "version": "3.6.4"
  }
 },
 "nbformat": 4,
 "nbformat_minor": 2
}
